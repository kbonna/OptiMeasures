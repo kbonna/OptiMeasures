{
 "cells": [
  {
   "cell_type": "markdown",
   "metadata": {},
   "source": [
    "### Calculate graph vectors $\\vec{G}=\\left[S_{mean},\\sigma_S,Q,P_{mean},C_{mean},T,A,E^{glo},E^{loc}_{mean},EC_{mean}\\right]$"
   ]
  },
  {
   "cell_type": "code",
   "execution_count": 120,
   "metadata": {},
   "outputs": [],
   "source": [
    "def calc_graph_vector( filename, thresholds ) :\n",
    "    #-------------------------------------------------------------------#   \n",
    "    #    Input arguments:                                               #\n",
    "    #        filename   – name of file containing connectivity matrix   #\n",
    "    #        thresholds – list containing thresholds of interest        #\n",
    "    #-------------------------------------------------------------------#\n",
    "    #=== import libraries\n",
    "    import numpy as np\n",
    "    import bct\n",
    "\n",
    "    #=== load matrix \n",
    "    A_raw = np.loadtxt(filename)\n",
    "    N = A_raw.shape[0]   # number of nodes\n",
    "    M_sat = N*(N-1)/2    # max number of connections \n",
    "\n",
    "    #=== parameters\n",
    "    N_rep_louvain = 10   # number of Louvain algorithm repetitions\n",
    "    gamma = 10           # Louvain resolution parameter\n",
    "    N_measures = 10      # number of graph measures\n",
    "\n",
    "    graph_measures = np.zeros([ len(thresholds), N_measures ])      # create empty output matrix\n",
    "    for thr in range(len(thresholds)) : \n",
    "        #=== thresholding \n",
    "        A = bct.threshold_proportional( A_raw, p=thresholds[thr], copy=True );\n",
    "        A[np.nonzero(A<0)] = 0                                      # ensure only positive weights\n",
    "        M_act = A[np.nonzero(A>0)].shape[0]                         # actual number of nonzero connections\n",
    "        #=== calculate measures\n",
    "        #-- mean connection strenght \n",
    "        S = np.sum(A)/M_act\n",
    "        #-- connection strenght std\n",
    "        Svar = np.std(A[np.nonzero(A)])\n",
    "        #-- modularity\n",
    "        [M,Q] = bct.modularity_louvain_und(A, gamma)\n",
    "        for i in range(N_rep_louvain) :\n",
    "            [Mt,Qt] = bct.modularity_louvain_und(A, gamma)\n",
    "            if Qt > Q :\n",
    "                Q = Qt\n",
    "                M = Mt\n",
    "        #-- participation coefficient\n",
    "        P = np.mean(bct.participation_coef_sign(A, M))\n",
    "        #-- clustering \n",
    "        C = np.mean(bct.clustering_coef_wu(A))\n",
    "        #-- transitivity \n",
    "        T = bct.transitivity_wu(A)\n",
    "        #-- assortativity\n",
    "        Asso = bct.assortativity_wei(A)\n",
    "        #-- global & local efficiency \n",
    "        Eglo = bct.efficiency_wei(A)\n",
    "        Eloc = np.mean(bct.efficiency_wei(A, local=True))\n",
    "        #-- mean eigenvector centralit\n",
    "        Eig = np.mean(bct.eigenvector_centrality_und(A))\n",
    "        #=== write vector to matrix\n",
    "        graph_measures[thr] = [ S, Svar, Q, P, C, T, Asso, Eglo, Eloc, Eig ]\n",
    "\n",
    "    #=== save results to file\n",
    "    np.savetxt( filename[:-4]+'_GV.txt', graph_measures )"
   ]
  },
  {
   "cell_type": "code",
   "execution_count": 121,
   "metadata": {},
   "outputs": [],
   "source": [
    "import os\n",
    "thresholds = [ 0.05, 0.075, 0.1, 0.125, 0.15 ]\n",
    "\n",
    "for filename in files\n",
    "    #=== do the job\n",
    "    calc_graph_vector(filename,thresholds)"
   ]
  }
 ],
 "metadata": {
  "kernelspec": {
   "display_name": "Python 3",
   "language": "python",
   "name": "python3"
  },
  "language_info": {
   "codemirror_mode": {
    "name": "ipython",
    "version": 3
   },
   "file_extension": ".py",
   "mimetype": "text/x-python",
   "name": "python",
   "nbconvert_exporter": "python",
   "pygments_lexer": "ipython3",
   "version": "3.6.5"
  }
 },
 "nbformat": 4,
 "nbformat_minor": 2
}
