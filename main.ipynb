{
 "cells": [
  {
   "cell_type": "code",
   "execution_count": 6,
   "metadata": {},
   "outputs": [
    {
     "name": "stdout",
     "output_type": "stream",
     "text": [
      "[[0.93347377 0.08991025 0.60566271 ... 0.13958795 0.32963899 0.030513  ]\n",
      " [0.84919121 0.09106123 0.56781633 ... 0.13418728 0.27854842 0.03568482]\n",
      " [0.93956529 0.08588042 0.60941826 ... 0.14790902 0.33917724 0.02689873]\n",
      " ...\n",
      " [0.93129521 0.07456132 0.56078068 ... 0.15717612 0.33623178 0.03964752]\n",
      " [0.86273918 0.07771019 0.55810815 ... 0.13562705 0.31248394 0.03352745]\n",
      " [0.89983503 0.09054365 0.58094415 ... 0.14623228 0.31030932 0.03664991]]\n"
     ]
    }
   ],
   "source": [
    "from identipy import beta_lin_comb\n",
    "#--- example input\n",
    "path = 'data/graph/'\n",
    "beta = [1,0,0,0,0, 1,0,0,0, 1,0,0,0,0]\n",
    "#--- use function\n",
    "sub_list, ses_list, gv_array = beta_lin_comb(path, beta)\n",
    "#--- print output\n",
    "print(gv_array)"
   ]
  }
 ],
 "metadata": {
  "kernelspec": {
   "display_name": "Python 3",
   "language": "python",
   "name": "python3"
  },
  "language_info": {
   "codemirror_mode": {
    "name": "ipython",
    "version": 3
   },
   "file_extension": ".py",
   "mimetype": "text/x-python",
   "name": "python",
   "nbconvert_exporter": "python",
   "pygments_lexer": "ipython3",
   "version": "3.6.5"
  }
 },
 "nbformat": 4,
 "nbformat_minor": 2
}
